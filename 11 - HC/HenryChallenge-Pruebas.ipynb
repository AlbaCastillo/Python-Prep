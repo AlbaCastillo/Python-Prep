{
 "cells": [
  {
   "cell_type": "code",
   "execution_count": null,
   "metadata": {},
   "outputs": [],
   "source": []
  },
  {
   "cell_type": "code",
   "execution_count": 53,
   "metadata": {},
   "outputs": [],
   "source": [
    "def ListaDivisibles(numero, tope):\n",
    "    '''\n",
    "    Esta función devuelve una lista ordenada de menor a mayor con los números divisibles \n",
    "    por el parámetro número entre uno (1) y el valor del parámetro \"tope\"\n",
    "    Recibe dos argumentos:\n",
    "        numero: Numero entero divisor\n",
    "        tope: Máximo valor a evaluar a partir de uno (1)\n",
    "    Ej:\n",
    "        ListaDivisibles(6,30) debe retornar [6,12,18,24,30]\n",
    "        ListaDivisibles(10,5) debe retornar []\n",
    "        ListaDivisibles(7,50) debe retornar [7,14,21,28,35,42,49]\n",
    "    '''\n",
    "    #Tu código aca:\n",
    "    if (numero > tope):\n",
    "        lista_retorno = []\n",
    "    elif(numero < tope):\n",
    "        n=numero\n",
    "        i=numero\n",
    "        Posibles_divisibles =[]\n",
    "        lista_retorno = []\n",
    "        while (n < tope+1):\n",
    "            Posibles_divisibles.append(n)\n",
    "            n += 1\n",
    "\n",
    "        for i in Posibles_divisibles:\n",
    "            if (i % numero  ==0):\n",
    "                lista_retorno.append(i)\n",
    "    else:\n",
    "        lista_retorno = [numero]\n",
    "    return lista_retorno"
   ]
  },
  {
   "cell_type": "code",
   "execution_count": 54,
   "metadata": {},
   "outputs": [
    {
     "name": "stdout",
     "output_type": "stream",
     "text": [
      "[7, 14, 21, 28, 35, 42, 49]\n"
     ]
    }
   ],
   "source": [
    "divisibles = ListaDivisibles(7,50)\n",
    "print(divisibles)"
   ]
  },
  {
   "cell_type": "code",
   "execution_count": 55,
   "metadata": {},
   "outputs": [],
   "source": [
    "def Exponente(numero, exponente):\n",
    "    '''\n",
    "    Esta función devuelve el resultado de elevar el parámetro \"numero\" al parámetro \"exponente\"\n",
    "    Recibe dos argumentos:\n",
    "        numero: El número base en la operación exponencial\n",
    "        exponente: El número exponente en la operación exponencial\n",
    "    Ej:\n",
    "        Exponente(10,3) debe retornar 1000\n",
    "    '''\n",
    "    #Tu código aca:\n",
    "    resultado= numero**exponente\n",
    "    return resultado"
   ]
  },
  {
   "cell_type": "code",
   "execution_count": 56,
   "metadata": {},
   "outputs": [
    {
     "name": "stdout",
     "output_type": "stream",
     "text": [
      "1000\n"
     ]
    }
   ],
   "source": [
    "exponente = Exponente(10,3)\n",
    "print(exponente)"
   ]
  },
  {
   "cell_type": "code",
   "execution_count": 57,
   "metadata": {},
   "outputs": [],
   "source": [
    "def ListaDeListas(lista):\n",
    "    '''\n",
    "    Esta función recibe una lista, que puede contener elementos que a su vez sean listas y\n",
    "    devuelve esos elementos por separado en una lista única. \n",
    "    En caso de que el parámetro no sea de tipo lista, debe retornar nulo.\n",
    "    Recibe un argumento:\n",
    "        lista: La lista que puede contener otras listas y se convierte a una \n",
    "        lista de elementos únicos o no iterables.\n",
    "    Ej:\n",
    "        ListaDeListas([1,2,['a','b'],[10]]) debe retornar [1,2,'a','b',10]\n",
    "        ListaDeListas(108) debe retornar el valor nulo.\n",
    "        ListaDeListas([[1,2,[3]],[4]]) debe retornar [1,2,3,4]\n",
    "    '''\n",
    "    #Tu código aca:\n",
    "    if (type(lista)==list):\n",
    "        listafinal=[]\n",
    "        \n",
    "        for e in lista:\n",
    "            if (type(e)==list):\n",
    "                for i in e:\n",
    "                    if (type(i)==list):\n",
    "                        for d in i:\n",
    "                            listafinal.append(d)\n",
    "                    else:\n",
    "                        listafinal.append(i)    \n",
    "            else:\n",
    "                listafinal.append(e)\n",
    "        \n",
    "    else:\n",
    "        return None\n",
    "\n",
    "    return listafinal\n"
   ]
  },
  {
   "cell_type": "code",
   "execution_count": 58,
   "metadata": {},
   "outputs": [
    {
     "name": "stdout",
     "output_type": "stream",
     "text": [
      "[1, 2, 3]\n"
     ]
    }
   ],
   "source": [
    "listafinal = ListaDeListas([1, 2, [[3]]])\n",
    "print(listafinal)"
   ]
  },
  {
   "cell_type": "code",
   "execution_count": 59,
   "metadata": {},
   "outputs": [],
   "source": [
    "def Factorial(numero):\n",
    "    '''\n",
    "    Esta función devuelve el factorial del número pasado como parámetro.\n",
    "    En caso de que no sea de tipo entero y/o sea menor que 0, debe retornar nulo.\n",
    "    Recibe un argumento:\n",
    "        numero: Será el número con el que se calcule el factorial\n",
    "    Ej:\n",
    "        Factorial(4) debe retornar 24\n",
    "        Factorial(-2) debe retornar nulo\n",
    "        Factorial(0) debe retornar 1\n",
    "    '''\n",
    "    #Tu código aca:\n",
    "    if(type(numero)==int):\n",
    "        if(numero>0):\n",
    "            factorial = numero\n",
    "            while (numero>2):\n",
    "                numero = numero-1\n",
    "                factorial = factorial*numero\n",
    "        elif(numero<0):\n",
    "            return None\n",
    "        else:\n",
    "            factorial=1\n",
    "    else:\n",
    "        return None\n",
    "\n",
    "    return factorial"
   ]
  },
  {
   "cell_type": "code",
   "execution_count": 60,
   "metadata": {},
   "outputs": [
    {
     "name": "stdout",
     "output_type": "stream",
     "text": [
      "40320\n"
     ]
    }
   ],
   "source": [
    "resultado = Factorial(8)\n",
    "print(resultado)"
   ]
  },
  {
   "cell_type": "code",
   "execution_count": 61,
   "metadata": {},
   "outputs": [],
   "source": [
    "def ListaPrimos(desde, hasta):\n",
    "    '''\n",
    "    Esta función devuelve una lista con los números primos entre los valores \"desde\" y \"hasta\"\n",
    "    pasados como parámetro, siendo ambos inclusivos.\n",
    "    En caso de que alguno de los parámetros no sea de tipo entero y/o no sea mayor a cero, debe retornar nulo.\n",
    "    En caso de que el segundo parámetro sea menor al primero, pero ambos mayores que cero,\n",
    "    debe retornar una lista vacía.\n",
    "    Recibe un argumento:\n",
    "        desde: Será el número a partir del cual se toma el rango\n",
    "        hasta: Será el número hasta el cual se tome el rango\n",
    "    Ej:\n",
    "        ListaPrimos(7,15) debe retornar [7,11,13]\n",
    "        ListaPrimos(100,99) debe retornar []\n",
    "        ListaPrimos(1,7) debe retonan [1,2,3,5,7]\n",
    "    '''\n",
    "    #Tu código aca:\n",
    "    if (type(desde)==int and type(hasta)==int and desde>0 and hasta>0):\n",
    "        if (desde<hasta):\n",
    "            listafinal=[]\n",
    "            for n in range (desde,(hasta+1)):\n",
    "                primo = True\n",
    "                for i in range (2,n):\n",
    "                    if (n%i == 0):\n",
    "                        primo = False\n",
    "                        break\n",
    "                if (primo):\n",
    "                    listafinal.append (n)\n",
    "        else:\n",
    "            listafinal=[]\n",
    "    else:\n",
    "        return None\n",
    "        \n",
    "    return listafinal"
   ]
  },
  {
   "cell_type": "code",
   "execution_count": 62,
   "metadata": {},
   "outputs": [
    {
     "name": "stdout",
     "output_type": "stream",
     "text": [
      "[7, 11, 13]\n"
     ]
    }
   ],
   "source": [
    "primos = ListaPrimos(7,15)\n",
    "print(primos)"
   ]
  },
  {
   "cell_type": "code",
   "execution_count": 77,
   "metadata": {},
   "outputs": [],
   "source": [
    "def ListaRepetidos(lista):\n",
    "    '''\n",
    "    Esta función recibe como parámetro una lista y devuelve una lista de tuplas donde cada \n",
    "    tupla contiene un valor de la lista original y las veces que se repite. Los valores \n",
    "    de la lista original no deben estar repetidos. \n",
    "    Debe respetarse el orden original en el que aparecen los elementos.\n",
    "    En caso de que el parámetro no sea de tipo lista debe retornar nulo.\n",
    "    Recibe un argumento:\n",
    "        lista: Será la lista que se va a evaluar.\n",
    "    Ej:\n",
    "        ListaRepetidos([]) debe retornar []\n",
    "        ListaRepetidos(['hola', 'mundo', 'hola', 13, 14]) \n",
    "            debe retornar [('hola',2),('mundo',1),(13,1),(14,1)]\n",
    "        ListaRepetidos([1,2,2,4]) debe retornar [(1,1),(2,2),(4,1)]\n",
    "    '''\n",
    "    #Tu código aca:\n",
    "    if (type(lista)==list):\n",
    "        elemento = []\n",
    "        serepite = []\n",
    "        for i in lista:\n",
    "            veces = lista.count(i)\n",
    "            if (not(i in elemento)):\n",
    "                elemento.append(i)\n",
    "                serepite.append(veces)\n",
    "            \n",
    "        tupla_temp=zip(elemento,serepite)\n",
    "        tupla_final=list(tupla_temp)\n",
    "    else:\n",
    "        return None\n",
    "\n",
    "    return tupla_final\n"
   ]
  },
  {
   "cell_type": "code",
   "execution_count": 78,
   "metadata": {},
   "outputs": [
    {
     "name": "stdout",
     "output_type": "stream",
     "text": [
      "[('hola', 2), ('mundo', 1), (13, 1), (14, 1)]\n"
     ]
    }
   ],
   "source": [
    "repe = ListaRepetidos(['hola', 'mundo', 'hola', 13, 14])\n",
    "print(repe)"
   ]
  },
  {
   "cell_type": "code",
   "execution_count": 308,
   "metadata": {},
   "outputs": [],
   "source": [
    "def ClaseVehiculo(tipo, color):\n",
    "    '''\n",
    "    Esta función devuelve un objeto instanciado de la clase Vehiculo, \n",
    "    la cual debe tener los siguientes atributos:\n",
    "        Tipo:       Un valor dentro de los valores posibles: ['auto','camioneta','moto']\n",
    "        Color:      Un valor de tipo de dato string.\n",
    "        Velocidad:  Un valor de tipo de dato float, que debe inicializarse en cero.\n",
    "    y debe tener el siguiente método:\n",
    "        Acelerar(): Este método recibe un parámetro con el valor que debe incrementar a la\n",
    "                    propiedad Velocidad y luego retornarla.\n",
    "                    Si la propiedad Velocidad cobra un valor menor a cero, debe quedar en cero.\n",
    "                    Si la propiedad Velocidad cobra un valor mayor a cien, debe quedar en cien.\n",
    "    Recibe dos argumento:\n",
    "        tipo: Dato que se asignará al atributo Tipo del objeto de la clase Vehiculo\n",
    "        color: Dato que se asignará al atributo Color del objeto de la clase Vehiculo\n",
    "    Ej:\n",
    "        a = ClaseVehículo('auto','gris')\n",
    "        a.Acelerar(10) -> debe devolver 10\n",
    "        a.Acelerar(15) -> debe devolver 25\n",
    "        a.Acelerar(-10) -> debe devolver 15\n",
    "    '''\n",
    "    #Tu código aca:\n",
    "    class Vehiculo:\n",
    "        def __init__(self, tipo, color):\n",
    "            self.tipo = tipo\n",
    "            self.color = color\n",
    "            self.velocidad = 0\n",
    "\n",
    "        def Acelerar(self, vel):\n",
    "            self.velocidad += vel\n",
    "            if (self.velocidad<0):\n",
    "                self.velocidad=0\n",
    "            elif(self.velocidad>100):\n",
    "                self.velocidad=100\n",
    "            print(self.velocidad)\n",
    "\n",
    "    V = Vehiculo(tipo, color)\n",
    "\n",
    "    return V"
   ]
  },
  {
   "cell_type": "code",
   "execution_count": 394,
   "metadata": {},
   "outputs": [],
   "source": [
    "def ClaseVehiculo(tipo, color):\n",
    "    '''\n",
    "    Esta función devuelve un objeto instanciado de la clase Vehiculo, \n",
    "    la cual debe tener los siguientes atributos:\n",
    "        Tipo:       Un valor dentro de los valores posibles: ['auto','camioneta','moto']\n",
    "        Color:      Un valor de tipo de dato string.\n",
    "        Velocidad:  Un valor de tipo de dato float, que debe inicializarse en cero.\n",
    "    y debe tener el siguiente método:\n",
    "        Acelerar(): Este método recibe un parámetro con el valor que debe incrementar a la\n",
    "                    propiedad Velocidad y luego retornarla.\n",
    "                    Si la propiedad Velocidad cobra un valor menor a cero, debe quedar en cero.\n",
    "                    Si la propiedad Velocidad cobra un valor mayor a cien, debe quedar en cien.\n",
    "    Recibe dos argumento:\n",
    "        tipo: Dato que se asignará al atributo Tipo del objeto de la clase Vehiculo\n",
    "        color: Dato que se asignará al atributo Color del objeto de la clase Vehiculo\n",
    "    Ej:\n",
    "        a = ClaseVehículo('auto','gris')\n",
    "        a.Acelerar(10) -> debe devolver 10\n",
    "        a.Acelerar(15) -> debe devolver 25\n",
    "        a.Acelerar(-10) -> debe devolver 15\n",
    "    '''\n",
    "    #Tu código aca:\n",
    "    if((tipo=='auto') or (tipo=='camioneta') or (tipo=='moto')):\n",
    "        class Vehiculo:\n",
    "            def __init__(self, tipo, color):\n",
    "                self.tipo = tipo\n",
    "                self.color = color\n",
    "                self.velocidad = 0\n",
    "\n",
    "            def Acelerar(self, vel):\n",
    "                self.velocidad += vel\n",
    "                if (self.velocidad<0):\n",
    "                    self.velocidad=0\n",
    "                elif(self.velocidad>100):\n",
    "                    self.velocidad=100\n",
    "                return self.velocidad\n",
    "\n",
    "        V = Vehiculo(tipo, color)\n",
    "    else:\n",
    "        return print('Tipo no admitido')\n",
    "\n",
    "    return V"
   ]
  },
  {
   "cell_type": "code",
   "execution_count": 374,
   "metadata": {},
   "outputs": [],
   "source": [
    "a = ClaseVehiculo('auto','gris')\n"
   ]
  },
  {
   "cell_type": "code",
   "execution_count": 395,
   "metadata": {},
   "outputs": [],
   "source": [
    "a = ClaseVehiculo('auto','verde')\n",
    "valor_test = a.Acelerar(10)\n",
    "valor_test = a.Acelerar(100)\n",
    "valor_test = a.Acelerar(-20)"
   ]
  },
  {
   "cell_type": "code",
   "execution_count": 396,
   "metadata": {},
   "outputs": [
    {
     "name": "stdout",
     "output_type": "stream",
     "text": [
      "80\n"
     ]
    }
   ],
   "source": [
    "print(valor_test)"
   ]
  },
  {
   "cell_type": "code",
   "execution_count": null,
   "metadata": {},
   "outputs": [],
   "source": [
    "def OrdenarDiccionario(diccionario_par, clave, descendente=True):\n",
    "    '''\n",
    "    Esta función recibe como parámetro un diccionario, cuyas listas de valores tienen el mismo\n",
    "    tamaño y sus elementos enésimos están asociados. Y otros dos parámetros que indican\n",
    "    la clave por la cual debe ordenarse y si es descendente o ascendente.\n",
    "    La función debe devolver el diccionario ordenado, teniendo en cuenta de no perder la\n",
    "    relación entre los elementos enésimos.\n",
    "    Recibe tres argumentos:\n",
    "        diccionario:    Diccionario a ordenar.\n",
    "        clave:          Clave del diccionario recibido, por la cual ordenar.\n",
    "        descendente:    Un valor booleano, que al ser verdadero indica ordenamiento ascendente y \n",
    "                        descendente si es falso. \n",
    "                        Debe tratarse de un parámetro por defecto en True.\n",
    "    Si el parámetro diccionario no es un tipo de dato diccionario ó el parámetro clave no \n",
    "    se encuentra dentro de las claves del diccionario, debe devolver nulo.\n",
    "    Ej:\n",
    "        dicc = {'clave1':['c','a','b'],\n",
    "                'clave2':['casa','auto','barco'],\n",
    "                'clave3':[1,2,3]}\n",
    "        OrdenarDiccionario(dicc, 'clave1')          debe retornar {'clave1':['a','b','c'],\n",
    "                                                                'clave2':['auto','barco','casa'],\n",
    "                                                                'clave3':[2,3,1]}\n",
    "        OrdenarDiccionario(dicc, 'clave3', False)   debe retornar {'clave1':['b','a','c'],\n",
    "                                                                'clave2':['barco','auto','casa'],\n",
    "                                                                'clave3':[3,2,1]}\n",
    "    '''\n",
    "    #Tu código aca:\n",
    "\n",
    "    return   "
   ]
  },
  {
   "cell_type": "code",
   "execution_count": null,
   "metadata": {},
   "outputs": [],
   "source": []
  }
 ],
 "metadata": {
  "kernelspec": {
   "display_name": "Python 3",
   "language": "python",
   "name": "python3"
  },
  "language_info": {
   "codemirror_mode": {
    "name": "ipython",
    "version": 3
   },
   "file_extension": ".py",
   "mimetype": "text/x-python",
   "name": "python",
   "nbconvert_exporter": "python",
   "pygments_lexer": "ipython3",
   "version": "3.11.1"
  },
  "orig_nbformat": 4,
  "vscode": {
   "interpreter": {
    "hash": "5a33033e7b735160d442250d77b62d6d7a05467ce9a1ec3b9784d4e2b8c94143"
   }
  }
 },
 "nbformat": 4,
 "nbformat_minor": 2
}
